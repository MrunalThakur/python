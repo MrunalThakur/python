{
 "cells": [
  {
   "cell_type": "code",
   "execution_count": 3,
   "metadata": {},
   "outputs": [
    {
     "name": "stdout",
     "output_type": "stream",
     "text": [
      "Counter({'c': 5, 'a': 3, 'b': 3})\n"
     ]
    }
   ],
   "source": [
    "from collections import Counter\n",
    "a = \"aaabbbccccc\"\n",
    "count = Counter(a)\n",
    "print(count)\n",
    "print(count.items())\n",
    "print(count.most_common(2))"
   ]
  },
  {
   "cell_type": "code",
   "execution_count": 12,
   "metadata": {},
   "outputs": [
    {
     "name": "stdout",
     "output_type": "stream",
     "text": [
      "Point(x=1, y=-7)\n",
      "1 -7\n"
     ]
    }
   ],
   "source": [
    "from collections import namedtuple\n",
    "'''Python supports a type of container dictionaries called “namedtuple()” present in the module, “collections“.\n",
    "    Like dictionaries, they contain keys that are hashed to a particular value. But on contrary,\n",
    "    it supports both access from key-value and iteration, the functionality that dictionaries lack.'''\n",
    "\n",
    "#namedtuple(ClassName,[args])\n",
    "#ClassName can be same as variable name, args are csv or space separated in '' \n",
    "Point = namedtuple('Point','x,y')\n",
    "pt = Point(1,-7)\n",
    "print(pt)\n",
    "print(pt.x,pt.y)"
   ]
  },
  {
   "cell_type": "code",
   "execution_count": 13,
   "metadata": {},
   "outputs": [
    {
     "name": "stdout",
     "output_type": "stream",
     "text": [
      "OrderedDict([('a', 5), ('b', 4), ('c', 3)])\n"
     ]
    }
   ],
   "source": [
    "from collections import OrderedDict\n",
    "#just dictionary but it remembers the order items were inserted\n",
    "#no longer necessary since python 3.7 as it natively supports ordered dictionary\n",
    "\n",
    "ordered_dict = OrderedDict()\n",
    "\n",
    "ordered_dict['a']= 5\n",
    "ordered_dict['b']= 4\n",
    "ordered_dict['c']= 3\n",
    "print(ordered_dict)\n",
    "\n",
    "#but since python 3 normal dictionaries also remember the order"
   ]
  },
  {
   "cell_type": "code",
   "execution_count": 20,
   "metadata": {},
   "outputs": [
    {
     "name": "stdout",
     "output_type": "stream",
     "text": [
      "[]\n"
     ]
    }
   ],
   "source": [
    "from collections import defaultdict\n",
    "#assigns default value\n",
    "\n",
    "#default data type in paranthesis\n",
    "dict = defaultdict(list)\n",
    "dict['a'] = 1\n",
    "dict['b'] = 2\n",
    "\n",
    "#since dict['c'] doesn't exist you get default value of int i.e. 0\n",
    "#default type can be int, float, list...\n",
    "print(dict['c'])"
   ]
  },
  {
   "cell_type": "code",
   "execution_count": 22,
   "metadata": {},
   "outputs": [
    {
     "name": "stdout",
     "output_type": "stream",
     "text": [
      "deque([4, 3, 1, 2])\n",
      "deque([4, 3, 1])\n",
      "deque([3, 1])\n",
      "deque([3, 1, 6, 7, 8])\n"
     ]
    }
   ],
   "source": [
    "from collections import deque\n",
    "\n",
    "d = deque()\n",
    "\n",
    "d.append(1)\n",
    "d.append(2)\n",
    "d.appendleft(3)\n",
    "d.appendleft(4)\n",
    "print(d)\n",
    "\n",
    "d.pop()\n",
    "print(d)\n",
    "d.popleft()\n",
    "print(d)\n",
    "\n",
    "d.extend([6,7,8])\n",
    "print(d)\n",
    "d.extendleft([9,10,11])\n",
    "print(d)"
   ]
  },
  {
   "cell_type": "code",
   "execution_count": null,
   "metadata": {},
   "outputs": [],
   "source": []
  }
 ],
 "metadata": {
  "kernelspec": {
   "display_name": "Python 3",
   "language": "python",
   "name": "python3"
  },
  "language_info": {
   "codemirror_mode": {
    "name": "ipython",
    "version": 3
   },
   "file_extension": ".py",
   "mimetype": "text/x-python",
   "name": "python",
   "nbconvert_exporter": "python",
   "pygments_lexer": "ipython3",
   "version": "3.11.3"
  },
  "orig_nbformat": 4
 },
 "nbformat": 4,
 "nbformat_minor": 2
}
